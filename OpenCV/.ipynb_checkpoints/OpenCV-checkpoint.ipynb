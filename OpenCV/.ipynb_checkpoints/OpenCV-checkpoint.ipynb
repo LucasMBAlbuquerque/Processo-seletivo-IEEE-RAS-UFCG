{
 "cells": [
  {
   "cell_type": "markdown",
   "id": "a1db8894",
   "metadata": {},
   "source": [
    "## Capitulo 1"
   ]
  },
  {
   "cell_type": "code",
   "execution_count": 1,
   "id": "12858531",
   "metadata": {},
   "outputs": [
    {
     "name": "stdout",
     "output_type": "stream",
     "text": [
      "Largura em pixels: 800\n",
      "Altura em pixels: 400\n",
      "Qtde de canais: 3\n"
     ]
    },
    {
     "data": {
      "text/plain": [
       "True"
      ]
     },
     "execution_count": 1,
     "metadata": {},
     "output_type": "execute_result"
    }
   ],
   "source": [
    "# Importação das bibliotecas\n",
    "import cv2\n",
    "# Leitura da imagem com a função imread()\n",
    "imagem = cv2.imread('imagem.jpg')\n",
    "print('Largura em pixels: ', end='')\n",
    "print(imagem.shape[1]) #largura da imagem\n",
    "print('Altura em pixels: ', end='')\n",
    "print(imagem.shape[0]) #altura da imagem\n",
    "print('Qtde de canais: ', end='')\n",
    "print(imagem.shape[2])\n",
    "# Mostra a imagem com a função imshow\n",
    "cv2.imshow(\"Nome da janela\", imagem)\n",
    "cv2.waitKey(0) #espera pressionar qualquer tecla\n",
    "# Salvar a imagem no disco com função imwrite()\n",
    "cv2.imwrite(\"saida.jpg\", imagem)"
   ]
  },
  {
   "cell_type": "markdown",
   "id": "81652e4f",
   "metadata": {},
   "source": [
    "## Capitulo 2"
   ]
  },
  {
   "cell_type": "code",
   "execution_count": 2,
   "id": "08857f2c",
   "metadata": {},
   "outputs": [
    {
     "name": "stdout",
     "output_type": "stream",
     "text": [
      "O pixel (0, 0) tem as seguintes cores:\n",
      "Vermelho: 157 Verde: 127 Azul: 163\n"
     ]
    }
   ],
   "source": [
    "import cv2\n",
    "imagem = cv2.imread('ponte.jpg')\n",
    "(b, g, r) = imagem[0, 0] #veja que a ordem BGR e não RGB\n",
    "print('O pixel (0, 0) tem as seguintes cores:')\n",
    "print('Vermelho:', r, 'Verde:', g, 'Azul:', b)"
   ]
  },
  {
   "cell_type": "markdown",
   "id": "2a52baa9",
   "metadata": {},
   "source": [
    "### pintando toda imagem de azul"
   ]
  },
  {
   "cell_type": "code",
   "execution_count": 5,
   "id": "9bdcfac7",
   "metadata": {},
   "outputs": [
    {
     "data": {
      "text/plain": [
       "-1"
      ]
     },
     "execution_count": 5,
     "metadata": {},
     "output_type": "execute_result"
    }
   ],
   "source": [
    "import cv2\n",
    "imagem = cv2.imread('ponte.jpg')\n",
    "for y in range(0, imagem.shape[0]):\n",
    "    for x in range(0, imagem.shape[1]):\n",
    "        imagem[y, x] = (255,0,0)\n",
    "cv2.imshow(\"Imagem modificada\", imagem)\n",
    "cv2.waitKey()"
   ]
  },
  {
   "cell_type": "markdown",
   "id": "7753039a",
   "metadata": {},
   "source": [
    "### Imagem psicodélica 1"
   ]
  },
  {
   "cell_type": "code",
   "execution_count": 4,
   "id": "e544a5d3",
   "metadata": {},
   "outputs": [
    {
     "data": {
      "text/plain": [
       "-1"
      ]
     },
     "execution_count": 4,
     "metadata": {},
     "output_type": "execute_result"
    }
   ],
   "source": [
    "import cv2\n",
    "imagem = cv2.imread('ponte.jpg')\n",
    "for y in range(0, imagem.shape[0]): #percorre linhas\n",
    "    for x in range(0, imagem.shape[1]): #percorre colunas\n",
    "        imagem[y, x] = (x%256,y%256,x%256)\n",
    "cv2.imshow(\"Imagem modificada\", imagem)\n",
    "cv2.waitKey(0)"
   ]
  },
  {
   "cell_type": "markdown",
   "id": "cbd6c19d",
   "metadata": {},
   "source": [
    "### Imagem psicodélica 2"
   ]
  },
  {
   "cell_type": "code",
   "execution_count": 7,
   "id": "0ff5bcfc",
   "metadata": {},
   "outputs": [
    {
     "data": {
      "text/plain": [
       "-1"
      ]
     },
     "execution_count": 7,
     "metadata": {},
     "output_type": "execute_result"
    }
   ],
   "source": [
    "import cv2\n",
    "imagem = cv2.imread('ponte.jpg')\n",
    "for y in range(0, imagem.shape[0], 1): #percorre as linhas\n",
    "    for x in range(0, imagem.shape[1], 1): #percorre as colunas\n",
    "        imagem[y, x] = (0,(x*y)%256,0)\n",
    "cv2.imshow(\"Imagem modificada\", imagem)\n",
    "cv2.waitKey(0)"
   ]
  },
  {
   "cell_type": "markdown",
   "id": "9d445102",
   "metadata": {},
   "source": [
    "### Imagem com quadrados amarelos 5x5 pixels"
   ]
  },
  {
   "cell_type": "code",
   "execution_count": 8,
   "id": "5ea5f26d",
   "metadata": {},
   "outputs": [
    {
     "data": {
      "text/plain": [
       "-1"
      ]
     },
     "execution_count": 8,
     "metadata": {},
     "output_type": "execute_result"
    }
   ],
   "source": [
    "import cv2\n",
    "imagem = cv2.imread('ponte.jpg')\n",
    "for y in range(0, imagem.shape[0], 10):#percorre linhas\n",
    "    for x in range(0, imagem.shape[1], 10): #percorre colunas\n",
    "        imagem[y:y+5, x: x+5] = (0,255,255)\n",
    "cv2.imshow(\"Imagem modificada\", imagem)\n",
    "cv2.waitKey(0)"
   ]
  }
 ],
 "metadata": {
  "kernelspec": {
   "display_name": "Python 3 (ipykernel)",
   "language": "python",
   "name": "python3"
  },
  "language_info": {
   "codemirror_mode": {
    "name": "ipython",
    "version": 3
   },
   "file_extension": ".py",
   "mimetype": "text/x-python",
   "name": "python",
   "nbconvert_exporter": "python",
   "pygments_lexer": "ipython3",
   "version": "3.9.7"
  }
 },
 "nbformat": 4,
 "nbformat_minor": 5
}
